{
 "cells": [
  {
   "cell_type": "markdown",
   "metadata": {},
   "source": [
    "# Stock Market Prediction and Forecasting using Stacked LSTM"
   ]
  },
  {
   "cell_type": "code",
   "execution_count": 1,
   "metadata": {},
   "outputs": [],
   "source": [
    "import pandas as pd"
   ]
  },
  {
   "cell_type": "code",
   "execution_count": 2,
   "metadata": {},
   "outputs": [
    {
     "data": {
      "text/html": [
       "<div>\n",
       "<style scoped>\n",
       "    .dataframe tbody tr th:only-of-type {\n",
       "        vertical-align: middle;\n",
       "    }\n",
       "\n",
       "    .dataframe tbody tr th {\n",
       "        vertical-align: top;\n",
       "    }\n",
       "\n",
       "    .dataframe thead th {\n",
       "        text-align: right;\n",
       "    }\n",
       "</style>\n",
       "<table border=\"1\" class=\"dataframe\">\n",
       "  <thead>\n",
       "    <tr style=\"text-align: right;\">\n",
       "      <th></th>\n",
       "      <th>Unnamed: 0</th>\n",
       "      <th>symbol</th>\n",
       "      <th>date</th>\n",
       "      <th>close</th>\n",
       "      <th>high</th>\n",
       "      <th>low</th>\n",
       "      <th>open</th>\n",
       "      <th>volume</th>\n",
       "      <th>adjClose</th>\n",
       "      <th>adjHigh</th>\n",
       "      <th>adjLow</th>\n",
       "      <th>adjOpen</th>\n",
       "      <th>adjVolume</th>\n",
       "      <th>divCash</th>\n",
       "      <th>splitFactor</th>\n",
       "    </tr>\n",
       "  </thead>\n",
       "  <tbody>\n",
       "    <tr>\n",
       "      <th>0</th>\n",
       "      <td>0</td>\n",
       "      <td>AAPL</td>\n",
       "      <td>2015-05-27 00:00:00+00:00</td>\n",
       "      <td>132.045</td>\n",
       "      <td>132.260</td>\n",
       "      <td>130.05</td>\n",
       "      <td>130.34</td>\n",
       "      <td>45833246</td>\n",
       "      <td>121.682558</td>\n",
       "      <td>121.880685</td>\n",
       "      <td>119.844118</td>\n",
       "      <td>120.111360</td>\n",
       "      <td>45833246</td>\n",
       "      <td>0.0</td>\n",
       "      <td>1.0</td>\n",
       "    </tr>\n",
       "    <tr>\n",
       "      <th>1</th>\n",
       "      <td>1</td>\n",
       "      <td>AAPL</td>\n",
       "      <td>2015-05-28 00:00:00+00:00</td>\n",
       "      <td>131.780</td>\n",
       "      <td>131.950</td>\n",
       "      <td>131.10</td>\n",
       "      <td>131.86</td>\n",
       "      <td>30733309</td>\n",
       "      <td>121.438354</td>\n",
       "      <td>121.595013</td>\n",
       "      <td>120.811718</td>\n",
       "      <td>121.512076</td>\n",
       "      <td>30733309</td>\n",
       "      <td>0.0</td>\n",
       "      <td>1.0</td>\n",
       "    </tr>\n",
       "    <tr>\n",
       "      <th>2</th>\n",
       "      <td>2</td>\n",
       "      <td>AAPL</td>\n",
       "      <td>2015-05-29 00:00:00+00:00</td>\n",
       "      <td>130.280</td>\n",
       "      <td>131.450</td>\n",
       "      <td>129.90</td>\n",
       "      <td>131.23</td>\n",
       "      <td>50884452</td>\n",
       "      <td>120.056069</td>\n",
       "      <td>121.134251</td>\n",
       "      <td>119.705890</td>\n",
       "      <td>120.931516</td>\n",
       "      <td>50884452</td>\n",
       "      <td>0.0</td>\n",
       "      <td>1.0</td>\n",
       "    </tr>\n",
       "    <tr>\n",
       "      <th>3</th>\n",
       "      <td>3</td>\n",
       "      <td>AAPL</td>\n",
       "      <td>2015-06-01 00:00:00+00:00</td>\n",
       "      <td>130.535</td>\n",
       "      <td>131.390</td>\n",
       "      <td>130.05</td>\n",
       "      <td>131.20</td>\n",
       "      <td>32112797</td>\n",
       "      <td>120.291057</td>\n",
       "      <td>121.078960</td>\n",
       "      <td>119.844118</td>\n",
       "      <td>120.903870</td>\n",
       "      <td>32112797</td>\n",
       "      <td>0.0</td>\n",
       "      <td>1.0</td>\n",
       "    </tr>\n",
       "    <tr>\n",
       "      <th>4</th>\n",
       "      <td>4</td>\n",
       "      <td>AAPL</td>\n",
       "      <td>2015-06-02 00:00:00+00:00</td>\n",
       "      <td>129.960</td>\n",
       "      <td>130.655</td>\n",
       "      <td>129.32</td>\n",
       "      <td>129.86</td>\n",
       "      <td>33667627</td>\n",
       "      <td>119.761181</td>\n",
       "      <td>120.401640</td>\n",
       "      <td>119.171406</td>\n",
       "      <td>119.669029</td>\n",
       "      <td>33667627</td>\n",
       "      <td>0.0</td>\n",
       "      <td>1.0</td>\n",
       "    </tr>\n",
       "  </tbody>\n",
       "</table>\n",
       "</div>"
      ],
      "text/plain": [
       "   Unnamed: 0 symbol                       date    close     high     low  \\\n",
       "0           0   AAPL  2015-05-27 00:00:00+00:00  132.045  132.260  130.05   \n",
       "1           1   AAPL  2015-05-28 00:00:00+00:00  131.780  131.950  131.10   \n",
       "2           2   AAPL  2015-05-29 00:00:00+00:00  130.280  131.450  129.90   \n",
       "3           3   AAPL  2015-06-01 00:00:00+00:00  130.535  131.390  130.05   \n",
       "4           4   AAPL  2015-06-02 00:00:00+00:00  129.960  130.655  129.32   \n",
       "\n",
       "     open    volume    adjClose     adjHigh      adjLow     adjOpen  \\\n",
       "0  130.34  45833246  121.682558  121.880685  119.844118  120.111360   \n",
       "1  131.86  30733309  121.438354  121.595013  120.811718  121.512076   \n",
       "2  131.23  50884452  120.056069  121.134251  119.705890  120.931516   \n",
       "3  131.20  32112797  120.291057  121.078960  119.844118  120.903870   \n",
       "4  129.86  33667627  119.761181  120.401640  119.171406  119.669029   \n",
       "\n",
       "   adjVolume  divCash  splitFactor  \n",
       "0   45833246      0.0          1.0  \n",
       "1   30733309      0.0          1.0  \n",
       "2   50884452      0.0          1.0  \n",
       "3   32112797      0.0          1.0  \n",
       "4   33667627      0.0          1.0  "
      ]
     },
     "execution_count": 2,
     "metadata": {},
     "output_type": "execute_result"
    }
   ],
   "source": [
    "df = pd.read_csv('AAPL.csv') #apple stock price \n",
    "df.head()"
   ]
  },
  {
   "cell_type": "code",
   "execution_count": 3,
   "metadata": {},
   "outputs": [
    {
     "data": {
      "text/plain": [
       "0    132.045\n",
       "1    131.780\n",
       "2    130.280\n",
       "3    130.535\n",
       "4    129.960\n",
       "Name: close, dtype: float64"
      ]
     },
     "execution_count": 3,
     "metadata": {},
     "output_type": "execute_result"
    }
   ],
   "source": [
    "df1 = df.reset_index()['close']\n",
    "df1.head()"
   ]
  },
  {
   "cell_type": "code",
   "execution_count": 4,
   "metadata": {},
   "outputs": [
    {
     "data": {
      "text/plain": [
       "(1258,)"
      ]
     },
     "execution_count": 4,
     "metadata": {},
     "output_type": "execute_result"
    }
   ],
   "source": [
    "df1.shape"
   ]
  },
  {
   "cell_type": "code",
   "execution_count": 5,
   "metadata": {},
   "outputs": [
    {
     "data": {
      "text/plain": [
       "[<matplotlib.lines.Line2D at 0x7f8bf8bec6a0>]"
      ]
     },
     "execution_count": 5,
     "metadata": {},
     "output_type": "execute_result"
    },
    {
     "data": {
      "image/png": "[encoded data removed]",
      "text/plain": [
       "<Figure size 640x480 with 1 Axes>"
      ]
     },
     "metadata": {},
     "output_type": "display_data"
    }
   ],
   "source": [
    "import matplotlib.pyplot as plt\n",
    "plt.plot(df1)"
   ]
  },
  {
   "cell_type": "code",
   "execution_count": 6,
   "metadata": {},
   "outputs": [],
   "source": [
    "## LSTM is sensitive to the scale of the data, so normalize first\n",
    "import numpy as np\n",
    "from sklearn.preprocessing import MinMaxScaler"
   ]
  },
  {
   "cell_type": "code",
   "execution_count": 7,
   "metadata": {},
   "outputs": [
    {
     "data": {
      "text/plain": [
       "0       132.045\n",
       "1       131.780\n",
       "2       130.280\n",
       "3       130.535\n",
       "4       129.960\n",
       "         ...   \n",
       "1253    314.960\n",
       "1254    313.140\n",
       "1255    319.230\n",
       "1256    316.850\n",
       "1257    318.890\n",
       "Name: close, Length: 1258, dtype: float64"
      ]
     },
     "execution_count": 7,
     "metadata": {},
     "output_type": "execute_result"
    }
   ],
   "source": [
    "df1"
   ]
  },
  {
   "cell_type": "code",
   "execution_count": 8,
   "metadata": {},
   "outputs": [
    {
     "data": {
      "text/plain": [
       "(1258, 1)"
      ]
     },
     "execution_count": 8,
     "metadata": {},
     "output_type": "execute_result"
    }
   ],
   "source": [
    "scaler = MinMaxScaler(feature_range=(0,1))\n",
    "df1 = scaler.fit_transform(np.array(df1).reshape(-1,1))\n",
    "df1.shape"
   ]
  },
  {
   "cell_type": "code",
   "execution_count": 9,
   "metadata": {},
   "outputs": [
    {
     "data": {
      "text/plain": [
       "array([[0.17607447],\n",
       "       [0.17495567],\n",
       "       [0.16862282],\n",
       "       ...,\n",
       "       [0.96635143],\n",
       "       [0.9563033 ],\n",
       "       [0.96491598]])"
      ]
     },
     "execution_count": 9,
     "metadata": {},
     "output_type": "execute_result"
    }
   ],
   "source": [
    "df1"
   ]
  },
  {
   "cell_type": "code",
   "execution_count": 10,
   "metadata": {},
   "outputs": [],
   "source": [
    "## Train test split \n",
    "training_size = int(len(df1)*0.65)\n",
    "test_size = len(df1)-training_size\n",
    "train_data, test_data = df1[0:training_size,:],df1[training_size:len(df1),:]"
   ]
  },
  {
   "cell_type": "code",
   "execution_count": 11,
   "metadata": {},
   "outputs": [],
   "source": [
    "## create input x which represents historical data based on time_step, and the truth. \n",
    "## e.g. time_step=3, use day1, day2, day3 data to predict day 4\n",
    "def create_dataset(dataset, time_step=1):\n",
    "\tdataX, dataY = [], []\n",
    "\tfor i in range(len(dataset)-time_step-1):\n",
    "\t\ta = dataset[i:(i+time_step), 0] \n",
    "\t\tdataX.append(a)\n",
    "\t\tdataY.append(dataset[i + time_step, 0])\n",
    "\treturn np.array(dataX), np.array(dataY)"
   ]
  },
  {
   "cell_type": "code",
   "execution_count": 12,
   "metadata": {},
   "outputs": [
    {
     "data": {
      "text/plain": [
       "array([[0.52651355, 0.52837119, 0.53119986, ..., 0.26154691, 0.25187875,\n",
       "        0.26483999],\n",
       "       [0.52837119, 0.53119986, 0.53871485, ..., 0.25187875, 0.26483999,\n",
       "        0.27273495],\n",
       "       [0.53119986, 0.53871485, 0.5461454 , ..., 0.26483999, 0.27273495,\n",
       "        0.2766191 ],\n",
       "       ...,\n",
       "       [0.81875369, 0.84256523, 0.84210082, ..., 0.92544119, 0.91771511,\n",
       "        0.9483239 ],\n",
       "       [0.84256523, 0.84210082, 0.84936249, ..., 0.91771511, 0.9483239 ,\n",
       "        0.94064004],\n",
       "       [0.84210082, 0.84936249, 0.85835515, ..., 0.9483239 , 0.94064004,\n",
       "        0.96635143]])"
      ]
     },
     "execution_count": 12,
     "metadata": {},
     "output_type": "execute_result"
    }
   ],
   "source": [
    "time_step = 100\n",
    "X_train, y_train = create_dataset(train_data, time_step)\n",
    "X_test,y_test = create_dataset(test_data, time_step) \n",
    "X_test"
   ]
  },
  {
   "cell_type": "code",
   "execution_count": 13,
   "metadata": {},
   "outputs": [
    {
     "data": {
      "text/plain": [
       "(716, 100)"
      ]
     },
     "execution_count": 13,
     "metadata": {},
     "output_type": "execute_result"
    }
   ],
   "source": [
    "X_train.shape"
   ]
  },
  {
   "cell_type": "code",
   "execution_count": 14,
   "metadata": {},
   "outputs": [],
   "source": [
    "# reshape input to be [samples, time steps, features] which is required for LSTM\n",
    "X_train =X_train.reshape(X_train.shape[0],X_train.shape[1] , 1)\n",
    "X_test = X_test.reshape(X_test.shape[0],X_test.shape[1] , 1)"
   ]
  },
  {
   "cell_type": "code",
   "execution_count": 15,
   "metadata": {},
   "outputs": [
    {
     "name": "stderr",
     "output_type": "stream",
     "text": [
      "2024-09-29 17:03:11.684372: I tensorflow/core/platform/cpu_feature_guard.cc:182] This TensorFlow binary is optimized to use available CPU instructions in performance-critical operations.\n",
      "To enable the following instructions: SSE4.1 SSE4.2, in other operations, rebuild TensorFlow with the appropriate compiler flags.\n"
     ]
    }
   ],
   "source": [
    "### Create the Stacked LSTM model\n",
    "from tensorflow.keras.models import Sequential\n",
    "from tensorflow.keras.layers import Dense\n",
    "from tensorflow.keras.layers import LSTM"
   ]
  },
  {
   "cell_type": "code",
   "execution_count": 16,
   "metadata": {},
   "outputs": [
    {
     "name": "stderr",
     "output_type": "stream",
     "text": [
      "2024-09-29 17:03:14.285392: I tensorflow/core/common_runtime/executor.cc:1197] [/device:CPU:0] (DEBUG INFO) Executor start aborting (this does not indicate an error and you can ignore this message): INVALID_ARGUMENT: You must feed a value for placeholder tensor 'gradients/split_2_grad/concat/split_2/split_dim' with dtype int32\n",
      "\t [[{{node gradients/split_2_grad/concat/split_2/split_dim}}]]\n",
      "2024-09-29 17:03:14.286525: I tensorflow/core/common_runtime/executor.cc:1197] [/device:CPU:0] (DEBUG INFO) Executor start aborting (this does not indicate an error and you can ignore this message): INVALID_ARGUMENT: You must feed a value for placeholder tensor 'gradients/split_grad/concat/split/split_dim' with dtype int32\n",
      "\t [[{{node gradients/split_grad/concat/split/split_dim}}]]\n",
      "2024-09-29 17:03:14.287243: I tensorflow/core/common_runtime/executor.cc:1197] [/device:CPU:0] (DEBUG INFO) Executor start aborting (this does not indicate an error and you can ignore this message): INVALID_ARGUMENT: You must feed a value for placeholder tensor 'gradients/split_1_grad/concat/split_1/split_dim' with dtype int32\n",
      "\t [[{{node gradients/split_1_grad/concat/split_1/split_dim}}]]\n",
      "2024-09-29 17:03:14.390579: I tensorflow/core/common_runtime/executor.cc:1197] [/device:CPU:0] (DEBUG INFO) Executor start aborting (this does not indicate an error and you can ignore this message): INVALID_ARGUMENT: You must feed a value for placeholder tensor 'gradients/split_2_grad/concat/split_2/split_dim' with dtype int32\n",
      "\t [[{{node gradients/split_2_grad/concat/split_2/split_dim}}]]\n",
      "2024-09-29 17:03:14.391634: I tensorflow/core/common_runtime/executor.cc:1197] [/device:CPU:0] (DEBUG INFO) Executor start aborting (this does not indicate an error and you can ignore this message): INVALID_ARGUMENT: You must feed a value for placeholder tensor 'gradients/split_grad/concat/split/split_dim' with dtype int32\n",
      "\t [[{{node gradients/split_grad/concat/split/split_dim}}]]\n",
      "2024-09-29 17:03:14.392342: I tensorflow/core/common_runtime/executor.cc:1197] [/device:CPU:0] (DEBUG INFO) Executor start aborting (this does not indicate an error and you can ignore this message): INVALID_ARGUMENT: You must feed a value for placeholder tensor 'gradients/split_1_grad/concat/split_1/split_dim' with dtype int32\n",
      "\t [[{{node gradients/split_1_grad/concat/split_1/split_dim}}]]\n",
      "2024-09-29 17:03:14.495578: I tensorflow/core/common_runtime/executor.cc:1197] [/device:CPU:0] (DEBUG INFO) Executor start aborting (this does not indicate an error and you can ignore this message): INVALID_ARGUMENT: You must feed a value for placeholder tensor 'gradients/split_2_grad/concat/split_2/split_dim' with dtype int32\n",
      "\t [[{{node gradients/split_2_grad/concat/split_2/split_dim}}]]\n",
      "2024-09-29 17:03:14.496598: I tensorflow/core/common_runtime/executor.cc:1197] [/device:CPU:0] (DEBUG INFO) Executor start aborting (this does not indicate an error and you can ignore this message): INVALID_ARGUMENT: You must feed a value for placeholder tensor 'gradients/split_grad/concat/split/split_dim' with dtype int32\n",
      "\t [[{{node gradients/split_grad/concat/split/split_dim}}]]\n",
      "2024-09-29 17:03:14.497302: I tensorflow/core/common_runtime/executor.cc:1197] [/device:CPU:0] (DEBUG INFO) Executor start aborting (this does not indicate an error and you can ignore this message): INVALID_ARGUMENT: You must feed a value for placeholder tensor 'gradients/split_1_grad/concat/split_1/split_dim' with dtype int32\n",
      "\t [[{{node gradients/split_1_grad/concat/split_1/split_dim}}]]\n"
     ]
    }
   ],
   "source": [
    "model = Sequential()\n",
    "model.add(LSTM(50,return_sequences=True,input_shape=(100,1)))\n",
    "model.add(LSTM(50,return_sequences=True))\n",
    "model.add(LSTM(50))\n",
    "model.add(Dense(1))\n",
    "model.compile(loss='mean_squared_error',optimizer='adam')"
   ]
  },
  {
   "cell_type": "code",
   "execution_count": 17,
   "metadata": {},
   "outputs": [
    {
     "name": "stdout",
     "output_type": "stream",
     "text": [
      "Model: \"sequential\"\n",
      "_________________________________________________________________\n",
      " Layer (type)                Output Shape              Param #   \n",
      "=================================================================\n",
      " lstm (LSTM)                 (None, 100, 50)           10400     \n",
      "                                                                 \n",
      " lstm_1 (LSTM)               (None, 100, 50)           20200     \n",
      "                                                                 \n",
      " lstm_2 (LSTM)               (None, 50)                20200     \n",
      "                                                                 \n",
      " dense (Dense)               (None, 1)                 51        \n",
      "                                                                 \n",
      "=================================================================\n",
      "Total params: 50,851\n",
      "Trainable params: 50,851\n",
      "Non-trainable params: 0\n",
      "_________________________________________________________________\n"
     ]
    }
   ],
   "source": [
    "model.summary()"
   ]
  },
  {
   "cell_type": "code",
   "execution_count": 18,
   "metadata": {},
   "outputs": [
    {
     "name": "stdout",
     "output_type": "stream",
     "text": [
      "Epoch 1/100\n"
     ]
    },
    {
     "name": "stderr",
     "output_type": "stream",
     "text": [
      "2024-09-29 17:03:14.705689: I tensorflow/core/common_runtime/executor.cc:1197] [/device:CPU:0] (DEBUG INFO) Executor start aborting (this does not indicate an error and you can ignore this message): INVALID_ARGUMENT: You must feed a value for placeholder tensor 'gradients/split_2_grad/concat/split_2/split_dim' with dtype int32\n",
      "\t [[{{node gradients/split_2_grad/concat/split_2/split_dim}}]]\n",
      "2024-09-29 17:03:14.706811: I tensorflow/core/common_runtime/executor.cc:1197] [/device:CPU:0] (DEBUG INFO) Executor start aborting (this does not indicate an error and you can ignore this message): INVALID_ARGUMENT: You must feed a value for placeholder tensor 'gradients/split_grad/concat/split/split_dim' with dtype int32\n",
      "\t [[{{node gradients/split_grad/concat/split/split_dim}}]]\n",
      "2024-09-29 17:03:14.707580: I tensorflow/core/common_runtime/executor.cc:1197] [/device:CPU:0] (DEBUG INFO) Executor start aborting (this does not indicate an error and you can ignore this message): INVALID_ARGUMENT: You must feed a value for placeholder tensor 'gradients/split_1_grad/concat/split_1/split_dim' with dtype int32\n",
      "\t [[{{node gradients/split_1_grad/concat/split_1/split_dim}}]]\n",
      "2024-09-29 17:03:14.810809: I tensorflow/core/common_runtime/executor.cc:1197] [/device:CPU:0] (DEBUG INFO) Executor start aborting (this does not indicate an error and you can ignore this message): INVALID_ARGUMENT: You must feed a value for placeholder tensor 'gradients/split_2_grad/concat/split_2/split_dim' with dtype int32\n",
      "\t [[{{node gradients/split_2_grad/concat/split_2/split_dim}}]]\n",
      "2024-09-29 17:03:14.811621: I tensorflow/core/common_runtime/executor.cc:1197] [/device:CPU:0] (DEBUG INFO) Executor start aborting (this does not indicate an error and you can ignore this message): INVALID_ARGUMENT: You must feed a value for placeholder tensor 'gradients/split_grad/concat/split/split_dim' with dtype int32\n",
      "\t [[{{node gradients/split_grad/concat/split/split_dim}}]]\n",
      "2024-09-29 17:03:14.812312: I tensorflow/core/common_runtime/executor.cc:1197] [/device:CPU:0] (DEBUG INFO) Executor start aborting (this does not indicate an error and you can ignore this message): INVALID_ARGUMENT: You must feed a value for placeholder tensor 'gradients/split_1_grad/concat/split_1/split_dim' with dtype int32\n",
      "\t [[{{node gradients/split_1_grad/concat/split_1/split_dim}}]]\n",
      "2024-09-29 17:03:14.914738: I tensorflow/core/common_runtime/executor.cc:1197] [/device:CPU:0] (DEBUG INFO) Executor start aborting (this does not indicate an error and you can ignore this message): INVALID_ARGUMENT: You must feed a value for placeholder tensor 'gradients/split_2_grad/concat/split_2/split_dim' with dtype int32\n",
      "\t [[{{node gradients/split_2_grad/concat/split_2/split_dim}}]]\n",
      "2024-09-29 17:03:14.915550: I tensorflow/core/common_runtime/executor.cc:1197] [/device:CPU:0] (DEBUG INFO) Executor start aborting (this does not indicate an error and you can ignore this message): INVALID_ARGUMENT: You must feed a value for placeholder tensor 'gradients/split_grad/concat/split/split_dim' with dtype int32\n",
      "\t [[{{node gradients/split_grad/concat/split/split_dim}}]]\n",
      "2024-09-29 17:03:14.916172: I tensorflow/core/common_runtime/executor.cc:1197] [/device:CPU:0] (DEBUG INFO) Executor start aborting (this does not indicate an error and you can ignore this message): INVALID_ARGUMENT: You must feed a value for placeholder tensor 'gradients/split_1_grad/concat/split_1/split_dim' with dtype int32\n",
      "\t [[{{node gradients/split_1_grad/concat/split_1/split_dim}}]]\n",
      "2024-09-29 17:03:15.501736: I tensorflow/core/common_runtime/executor.cc:1197] [/device:CPU:0] (DEBUG INFO) Executor start aborting (this does not indicate an error and you can ignore this message): INVALID_ARGUMENT: You must feed a value for placeholder tensor 'gradients/split_2_grad/concat/split_2/split_dim' with dtype int32\n",
      "\t [[{{node gradients/split_2_grad/concat/split_2/split_dim}}]]\n",
      "2024-09-29 17:03:15.502699: I tensorflow/core/common_runtime/executor.cc:1197] [/device:CPU:0] (DEBUG INFO) Executor start aborting (this does not indicate an error and you can ignore this message): INVALID_ARGUMENT: You must feed a value for placeholder tensor 'gradients/split_grad/concat/split/split_dim' with dtype int32\n",
      "\t [[{{node gradients/split_grad/concat/split/split_dim}}]]\n",
      "2024-09-29 17:03:15.503328: I tensorflow/core/common_runtime/executor.cc:1197] [/device:CPU:0] (DEBUG INFO) Executor start aborting (this does not indicate an error and you can ignore this message): INVALID_ARGUMENT: You must feed a value for placeholder tensor 'gradients/split_1_grad/concat/split_1/split_dim' with dtype int32\n",
      "\t [[{{node gradients/split_1_grad/concat/split_1/split_dim}}]]\n",
      "2024-09-29 17:03:15.601204: I tensorflow/core/common_runtime/executor.cc:1197] [/device:CPU:0] (DEBUG INFO) Executor start aborting (this does not indicate an error and you can ignore this message): INVALID_ARGUMENT: You must feed a value for placeholder tensor 'gradients/split_2_grad/concat/split_2/split_dim' with dtype int32\n",
      "\t [[{{node gradients/split_2_grad/concat/split_2/split_dim}}]]\n",
      "2024-09-29 17:03:15.602284: I tensorflow/core/common_runtime/executor.cc:1197] [/device:CPU:0] (DEBUG INFO) Executor start aborting (this does not indicate an error and you can ignore this message): INVALID_ARGUMENT: You must feed a value for placeholder tensor 'gradients/split_grad/concat/split/split_dim' with dtype int32\n",
      "\t [[{{node gradients/split_grad/concat/split/split_dim}}]]\n",
      "2024-09-29 17:03:15.603085: I tensorflow/core/common_runtime/executor.cc:1197] [/device:CPU:0] (DEBUG INFO) Executor start aborting (this does not indicate an error and you can ignore this message): INVALID_ARGUMENT: You must feed a value for placeholder tensor 'gradients/split_1_grad/concat/split_1/split_dim' with dtype int32\n",
      "\t [[{{node gradients/split_1_grad/concat/split_1/split_dim}}]]\n",
      "2024-09-29 17:03:15.701972: I tensorflow/core/common_runtime/executor.cc:1197] [/device:CPU:0] (DEBUG INFO) Executor start aborting (this does not indicate an error and you can ignore this message): INVALID_ARGUMENT: You must feed a value for placeholder tensor 'gradients/split_2_grad/concat/split_2/split_dim' with dtype int32\n",
      "\t [[{{node gradients/split_2_grad/concat/split_2/split_dim}}]]\n",
      "2024-09-29 17:03:15.703067: I tensorflow/core/common_runtime/executor.cc:1197] [/device:CPU:0] (DEBUG INFO) Executor start aborting (this does not indicate an error and you can ignore this message): INVALID_ARGUMENT: You must feed a value for placeholder tensor 'gradients/split_grad/concat/split/split_dim' with dtype int32\n",
      "\t [[{{node gradients/split_grad/concat/split/split_dim}}]]\n",
      "2024-09-29 17:03:15.704391: I tensorflow/core/common_runtime/executor.cc:1197] [/device:CPU:0] (DEBUG INFO) Executor start aborting (this does not indicate an error and you can ignore this message): INVALID_ARGUMENT: You must feed a value for placeholder tensor 'gradients/split_1_grad/concat/split_1/split_dim' with dtype int32\n",
      "\t [[{{node gradients/split_1_grad/concat/split_1/split_dim}}]]\n"
     ]
    },
    {
     "name": "stdout",
     "output_type": "stream",
     "text": [
      "12/12 [==============================] - ETA: 0s - loss: 0.0222"
     ]
    },
    {
     "name": "stderr",
     "output_type": "stream",
     "text": [
      "2024-09-29 17:03:18.459203: I tensorflow/core/common_runtime/executor.cc:1197] [/device:CPU:0] (DEBUG INFO) Executor start aborting (this does not indicate an error and you can ignore this message): INVALID_ARGUMENT: You must feed a value for placeholder tensor 'gradients/split_2_grad/concat/split_2/split_dim' with dtype int32\n",
      "\t [[{{node gradients/split_2_grad/concat/split_2/split_dim}}]]\n",
      "2024-09-29 17:03:18.460376: I tensorflow/core/common_runtime/executor.cc:1197] [/device:CPU:0] (DEBUG INFO) Executor start aborting (this does not indicate an error and you can ignore this message): INVALID_ARGUMENT: You must feed a value for placeholder tensor 'gradients/split_grad/concat/split/split_dim' with dtype int32\n",
      "\t [[{{node gradients/split_grad/concat/split/split_dim}}]]\n",
      "2024-09-29 17:03:18.461078: I tensorflow/core/common_runtime/executor.cc:1197] [/device:CPU:0] (DEBUG INFO) Executor start aborting (this does not indicate an error and you can ignore this message): INVALID_ARGUMENT: You must feed a value for placeholder tensor 'gradients/split_1_grad/concat/split_1/split_dim' with dtype int32\n",
      "\t [[{{node gradients/split_1_grad/concat/split_1/split_dim}}]]\n",
      "2024-09-29 17:03:18.557912: I tensorflow/core/common_runtime/executor.cc:1197] [/device:CPU:0] (DEBUG INFO) Executor start aborting (this does not indicate an error and you can ignore this message): INVALID_ARGUMENT: You must feed a value for placeholder tensor 'gradients/split_2_grad/concat/split_2/split_dim' with dtype int32\n",
      "\t [[{{node gradients/split_2_grad/concat/split_2/split_dim}}]]\n",
      "2024-09-29 17:03:18.558531: I tensorflow/core/common_runtime/executor.cc:1197] [/device:CPU:0] (DEBUG INFO) Executor start aborting (this does not indicate an error and you can ignore this message): INVALID_ARGUMENT: You must feed a value for placeholder tensor 'gradients/split_grad/concat/split/split_dim' with dtype int32\n",
      "\t [[{{node gradients/split_grad/concat/split/split_dim}}]]\n",
      "2024-09-29 17:03:18.559511: I tensorflow/core/common_runtime/executor.cc:1197] [/device:CPU:0] (DEBUG INFO) Executor start aborting (this does not indicate an error and you can ignore this message): INVALID_ARGUMENT: You must feed a value for placeholder tensor 'gradients/split_1_grad/concat/split_1/split_dim' with dtype int32\n",
      "\t [[{{node gradients/split_1_grad/concat/split_1/split_dim}}]]\n",
      "2024-09-29 17:03:18.778448: I tensorflow/core/common_runtime/executor.cc:1197] [/device:CPU:0] (DEBUG INFO) Executor start aborting (this does not indicate an error and you can ignore this message): INVALID_ARGUMENT: You must feed a value for placeholder tensor 'gradients/split_2_grad/concat/split_2/split_dim' with dtype int32\n",
      "\t [[{{node gradients/split_2_grad/concat/split_2/split_dim}}]]\n",
      "2024-09-29 17:03:18.779479: I tensorflow/core/common_runtime/executor.cc:1197] [/device:CPU:0] (DEBUG INFO) Executor start aborting (this does not indicate an error and you can ignore this message): INVALID_ARGUMENT: You must feed a value for placeholder tensor 'gradients/split_grad/concat/split/split_dim' with dtype int32\n",
      "\t [[{{node gradients/split_grad/concat/split/split_dim}}]]\n",
      "2024-09-29 17:03:18.780337: I tensorflow/core/common_runtime/executor.cc:1197] [/device:CPU:0] (DEBUG INFO) Executor start aborting (this does not indicate an error and you can ignore this message): INVALID_ARGUMENT: You must feed a value for placeholder tensor 'gradients/split_1_grad/concat/split_1/split_dim' with dtype int32\n",
      "\t [[{{node gradients/split_1_grad/concat/split_1/split_dim}}]]\n"
     ]
    },
    {
     "name": "stdout",
     "output_type": "stream",
     "text": [
      "12/12 [==============================] - 5s 171ms/step - loss: 0.0222 - val_loss: 0.0421\n",
      "Epoch 2/100\n",
      "12/12 [==============================] - 1s 104ms/step - loss: 0.0047 - val_loss: 0.0040\n",
      "Epoch 3/100\n",
      "12/12 [==============================] - 1s 103ms/step - loss: 0.0013 - val_loss: 0.0050\n",
      "Epoch 4/100\n",
      "12/12 [==============================] - 1s 103ms/step - loss: 7.5109e-04 - val_loss: 0.0039\n",
      "Epoch 5/100\n",
      "12/12 [==============================] - 1s 104ms/step - loss: 5.8430e-04 - val_loss: 0.0036\n",
      "Epoch 6/100\n",
      "12/12 [==============================] - 1s 102ms/step - loss: 5.9002e-04 - val_loss: 0.0038\n",
      "Epoch 7/100\n",
      "12/12 [==============================] - 1s 103ms/step - loss: 6.0697e-04 - val_loss: 0.0036\n",
      "Epoch 8/100\n",
      "12/12 [==============================] - 1s 102ms/step - loss: 5.5227e-04 - val_loss: 0.0035\n",
      "Epoch 9/100\n",
      "12/12 [==============================] - 1s 103ms/step - loss: 5.5417e-04 - val_loss: 0.0035\n",
      "Epoch 10/100\n",
      "12/12 [==============================] - 1s 102ms/step - loss: 5.5159e-04 - val_loss: 0.0034\n",
      "Epoch 11/100\n",
      "12/12 [==============================] - 1s 105ms/step - loss: 5.5251e-04 - val_loss: 0.0033\n",
      "Epoch 12/100\n",
      "12/12 [==============================] - 1s 102ms/step - loss: 5.7719e-04 - val_loss: 0.0034\n",
      "Epoch 13/100\n",
      "12/12 [==============================] - 1s 103ms/step - loss: 5.2138e-04 - val_loss: 0.0032\n",
      "Epoch 14/100\n",
      "12/12 [==============================] - 1s 103ms/step - loss: 5.2233e-04 - val_loss: 0.0033\n",
      "Epoch 15/100\n",
      "12/12 [==============================] - 1s 109ms/step - loss: 5.2340e-04 - val_loss: 0.0030\n",
      "Epoch 16/100\n",
      "12/12 [==============================] - 1s 107ms/step - loss: 5.2109e-04 - val_loss: 0.0029\n",
      "Epoch 17/100\n",
      "12/12 [==============================] - 1s 105ms/step - loss: 5.0327e-04 - val_loss: 0.0029\n",
      "Epoch 18/100\n",
      "12/12 [==============================] - 1s 101ms/step - loss: 5.4515e-04 - val_loss: 0.0028\n",
      "Epoch 19/100\n",
      "12/12 [==============================] - 1s 103ms/step - loss: 5.0211e-04 - val_loss: 0.0032\n",
      "Epoch 20/100\n",
      "12/12 [==============================] - 1s 103ms/step - loss: 5.7976e-04 - val_loss: 0.0035\n",
      "Epoch 21/100\n",
      "12/12 [==============================] - 1s 106ms/step - loss: 5.2461e-04 - val_loss: 0.0029\n",
      "Epoch 22/100\n",
      "12/12 [==============================] - 1s 107ms/step - loss: 4.6492e-04 - val_loss: 0.0025\n",
      "Epoch 23/100\n",
      "12/12 [==============================] - 1s 103ms/step - loss: 4.5620e-04 - val_loss: 0.0024\n",
      "Epoch 24/100\n",
      "12/12 [==============================] - 1s 104ms/step - loss: 4.5893e-04 - val_loss: 0.0030\n",
      "Epoch 25/100\n",
      "12/12 [==============================] - 1s 103ms/step - loss: 5.1645e-04 - val_loss: 0.0028\n",
      "Epoch 26/100\n",
      "12/12 [==============================] - 1s 105ms/step - loss: 4.9760e-04 - val_loss: 0.0022\n",
      "Epoch 27/100\n",
      "12/12 [==============================] - 1s 108ms/step - loss: 4.2635e-04 - val_loss: 0.0022\n",
      "Epoch 28/100\n",
      "12/12 [==============================] - 1s 102ms/step - loss: 4.5028e-04 - val_loss: 0.0021\n",
      "Epoch 29/100\n",
      "12/12 [==============================] - 1s 103ms/step - loss: 4.8304e-04 - val_loss: 0.0022\n",
      "Epoch 30/100\n",
      "12/12 [==============================] - 1s 102ms/step - loss: 4.3802e-04 - val_loss: 0.0027\n",
      "Epoch 31/100\n",
      "12/12 [==============================] - 1s 102ms/step - loss: 4.5410e-04 - val_loss: 0.0019\n",
      "Epoch 32/100\n",
      "12/12 [==============================] - 1s 103ms/step - loss: 4.0119e-04 - val_loss: 0.0020\n",
      "Epoch 33/100\n",
      "12/12 [==============================] - 1s 104ms/step - loss: 4.0925e-04 - val_loss: 0.0018\n",
      "Epoch 34/100\n",
      "12/12 [==============================] - 1s 103ms/step - loss: 3.9635e-04 - val_loss: 0.0017\n",
      "Epoch 35/100\n",
      "12/12 [==============================] - 1s 105ms/step - loss: 3.9572e-04 - val_loss: 0.0020\n",
      "Epoch 36/100\n",
      "12/12 [==============================] - 1s 102ms/step - loss: 3.8941e-04 - val_loss: 0.0017\n",
      "Epoch 37/100\n",
      "12/12 [==============================] - 1s 102ms/step - loss: 3.6195e-04 - val_loss: 0.0017\n",
      "Epoch 38/100\n",
      "12/12 [==============================] - 1s 104ms/step - loss: 3.6302e-04 - val_loss: 0.0016\n",
      "Epoch 39/100\n",
      "12/12 [==============================] - 1s 102ms/step - loss: 3.4837e-04 - val_loss: 0.0021\n",
      "Epoch 40/100\n",
      "12/12 [==============================] - 1s 106ms/step - loss: 3.5285e-04 - val_loss: 0.0016\n",
      "Epoch 41/100\n",
      "12/12 [==============================] - 1s 103ms/step - loss: 3.4843e-04 - val_loss: 0.0016\n",
      "Epoch 42/100\n",
      "12/12 [==============================] - 1s 101ms/step - loss: 3.4652e-04 - val_loss: 0.0015\n",
      "Epoch 43/100\n",
      "12/12 [==============================] - 1s 103ms/step - loss: 3.5458e-04 - val_loss: 0.0020\n",
      "Epoch 44/100\n",
      "12/12 [==============================] - 1s 103ms/step - loss: 3.5221e-04 - val_loss: 0.0014\n",
      "Epoch 45/100\n",
      "12/12 [==============================] - 1s 104ms/step - loss: 3.3497e-04 - val_loss: 0.0021\n",
      "Epoch 46/100\n",
      "12/12 [==============================] - 1s 103ms/step - loss: 3.2129e-04 - val_loss: 0.0016\n",
      "Epoch 47/100\n",
      "12/12 [==============================] - 1s 103ms/step - loss: 3.2805e-04 - val_loss: 0.0016\n",
      "Epoch 48/100\n",
      "12/12 [==============================] - 1s 108ms/step - loss: 3.9305e-04 - val_loss: 0.0022\n",
      "Epoch 49/100\n",
      "12/12 [==============================] - 1s 106ms/step - loss: 3.5924e-04 - val_loss: 0.0015\n",
      "Epoch 50/100\n",
      "12/12 [==============================] - 1s 103ms/step - loss: 3.2986e-04 - val_loss: 0.0023\n",
      "Epoch 51/100\n",
      "12/12 [==============================] - 1s 103ms/step - loss: 4.2299e-04 - val_loss: 0.0014\n",
      "Epoch 52/100\n",
      "12/12 [==============================] - 1s 104ms/step - loss: 3.1037e-04 - val_loss: 0.0015\n",
      "Epoch 53/100\n",
      "12/12 [==============================] - 1s 103ms/step - loss: 3.6359e-04 - val_loss: 0.0036\n",
      "Epoch 54/100\n",
      "12/12 [==============================] - 1s 102ms/step - loss: 4.2114e-04 - val_loss: 0.0016\n",
      "Epoch 55/100\n",
      "12/12 [==============================] - 1s 103ms/step - loss: 3.4133e-04 - val_loss: 0.0017\n",
      "Epoch 56/100\n",
      "12/12 [==============================] - 1s 103ms/step - loss: 3.3023e-04 - val_loss: 0.0016\n",
      "Epoch 57/100\n",
      "12/12 [==============================] - 1s 103ms/step - loss: 2.8175e-04 - val_loss: 0.0014\n",
      "Epoch 58/100\n",
      "12/12 [==============================] - 1s 105ms/step - loss: 2.7219e-04 - val_loss: 0.0014\n",
      "Epoch 59/100\n",
      "12/12 [==============================] - 1s 102ms/step - loss: 2.7566e-04 - val_loss: 0.0018\n",
      "Epoch 60/100\n",
      "12/12 [==============================] - 1s 103ms/step - loss: 2.7681e-04 - val_loss: 0.0013\n",
      "Epoch 61/100\n",
      "12/12 [==============================] - 1s 103ms/step - loss: 2.8402e-04 - val_loss: 0.0015\n",
      "Epoch 62/100\n",
      "12/12 [==============================] - 1s 104ms/step - loss: 2.7102e-04 - val_loss: 0.0020\n",
      "Epoch 63/100\n",
      "12/12 [==============================] - 1s 104ms/step - loss: 2.9094e-04 - val_loss: 0.0012\n",
      "Epoch 64/100\n",
      "12/12 [==============================] - 1s 103ms/step - loss: 2.7924e-04 - val_loss: 0.0012\n",
      "Epoch 65/100\n",
      "12/12 [==============================] - 1s 103ms/step - loss: 2.6243e-04 - val_loss: 0.0012\n",
      "Epoch 66/100\n",
      "12/12 [==============================] - 1s 103ms/step - loss: 2.4981e-04 - val_loss: 0.0016\n",
      "Epoch 67/100\n",
      "12/12 [==============================] - 1s 104ms/step - loss: 2.5387e-04 - val_loss: 0.0012\n",
      "Epoch 68/100\n",
      "12/12 [==============================] - 1s 102ms/step - loss: 2.6376e-04 - val_loss: 0.0017\n",
      "Epoch 69/100\n",
      "12/12 [==============================] - 1s 103ms/step - loss: 3.0876e-04 - val_loss: 0.0012\n",
      "Epoch 70/100\n",
      "12/12 [==============================] - 1s 102ms/step - loss: 2.8549e-04 - val_loss: 0.0021\n",
      "Epoch 71/100\n",
      "12/12 [==============================] - 1s 114ms/step - loss: 2.6382e-04 - val_loss: 0.0012\n",
      "Epoch 72/100\n",
      "12/12 [==============================] - 1s 103ms/step - loss: 2.4357e-04 - val_loss: 0.0015\n",
      "Epoch 73/100\n",
      "12/12 [==============================] - 1s 102ms/step - loss: 2.4295e-04 - val_loss: 0.0012\n",
      "Epoch 74/100\n",
      "12/12 [==============================] - 1s 103ms/step - loss: 2.2612e-04 - val_loss: 0.0013\n",
      "Epoch 75/100\n",
      "12/12 [==============================] - 1s 102ms/step - loss: 2.1313e-04 - val_loss: 0.0014\n",
      "Epoch 76/100\n",
      "12/12 [==============================] - 1s 105ms/step - loss: 2.1238e-04 - val_loss: 0.0012\n",
      "Epoch 77/100\n",
      "12/12 [==============================] - 1s 102ms/step - loss: 2.1225e-04 - val_loss: 0.0020\n",
      "Epoch 78/100\n",
      "12/12 [==============================] - 1s 102ms/step - loss: 2.8997e-04 - val_loss: 0.0011\n",
      "Epoch 79/100\n",
      "12/12 [==============================] - 1s 101ms/step - loss: 2.0851e-04 - val_loss: 0.0023\n",
      "Epoch 80/100\n",
      "12/12 [==============================] - 1s 103ms/step - loss: 2.4265e-04 - val_loss: 0.0012\n",
      "Epoch 81/100\n",
      "12/12 [==============================] - 1s 105ms/step - loss: 2.0384e-04 - val_loss: 0.0011\n",
      "Epoch 82/100\n",
      "12/12 [==============================] - 1s 103ms/step - loss: 1.9366e-04 - val_loss: 0.0012\n",
      "Epoch 83/100\n",
      "12/12 [==============================] - 1s 103ms/step - loss: 1.9329e-04 - val_loss: 0.0011\n",
      "Epoch 84/100\n",
      "12/12 [==============================] - 1s 103ms/step - loss: 1.8547e-04 - val_loss: 0.0011\n",
      "Epoch 85/100\n",
      "12/12 [==============================] - 1s 105ms/step - loss: 1.8212e-04 - val_loss: 0.0013\n",
      "Epoch 86/100\n",
      "12/12 [==============================] - 1s 103ms/step - loss: 1.9511e-04 - val_loss: 0.0011\n",
      "Epoch 87/100\n",
      "12/12 [==============================] - 1s 102ms/step - loss: 1.8498e-04 - val_loss: 0.0010\n",
      "Epoch 88/100\n",
      "12/12 [==============================] - 1s 103ms/step - loss: 1.9313e-04 - val_loss: 0.0010\n",
      "Epoch 89/100\n",
      "12/12 [==============================] - 1s 106ms/step - loss: 1.7210e-04 - val_loss: 0.0011\n",
      "Epoch 90/100\n",
      "12/12 [==============================] - 1s 103ms/step - loss: 1.7096e-04 - val_loss: 0.0014\n",
      "Epoch 91/100\n",
      "12/12 [==============================] - 1s 101ms/step - loss: 2.0432e-04 - val_loss: 9.9655e-04\n",
      "Epoch 92/100\n",
      "12/12 [==============================] - 1s 102ms/step - loss: 1.6622e-04 - val_loss: 0.0014\n",
      "Epoch 93/100\n",
      "12/12 [==============================] - 1s 105ms/step - loss: 1.8319e-04 - val_loss: 0.0010\n",
      "Epoch 94/100\n",
      "12/12 [==============================] - 1s 109ms/step - loss: 1.6577e-04 - val_loss: 0.0010\n",
      "Epoch 95/100\n",
      "12/12 [==============================] - 1s 103ms/step - loss: 1.8248e-04 - val_loss: 9.8791e-04\n",
      "Epoch 96/100\n",
      "12/12 [==============================] - 1s 102ms/step - loss: 1.5613e-04 - val_loss: 0.0011\n",
      "Epoch 97/100\n",
      "12/12 [==============================] - 1s 103ms/step - loss: 1.5816e-04 - val_loss: 0.0012\n",
      "Epoch 98/100\n",
      "12/12 [==============================] - 1s 103ms/step - loss: 1.8100e-04 - val_loss: 9.8690e-04\n",
      "Epoch 99/100\n",
      "12/12 [==============================] - 1s 103ms/step - loss: 1.5390e-04 - val_loss: 0.0010\n",
      "Epoch 100/100\n",
      "12/12 [==============================] - 1s 103ms/step - loss: 1.5272e-04 - val_loss: 0.0011\n"
     ]
    },
    {
     "data": {
      "text/plain": [
       "<keras.callbacks.History at 0x7f8c11563310>"
      ]
     },
     "execution_count": 18,
     "metadata": {},
     "output_type": "execute_result"
    }
   ],
   "source": [
    "model.fit(X_train,y_train,validation_data=(X_test,y_test),epochs=100,batch_size=64,verbose=1)"
   ]
  },
  {
   "cell_type": "code",
   "execution_count": 19,
   "metadata": {},
   "outputs": [],
   "source": [
    "import tensorflow as tf"
   ]
  },
  {
   "cell_type": "code",
   "execution_count": 20,
   "metadata": {},
   "outputs": [
    {
     "name": "stderr",
     "output_type": "stream",
     "text": [
      "2024-09-29 17:05:21.197193: I tensorflow/core/common_runtime/executor.cc:1197] [/device:CPU:0] (DEBUG INFO) Executor start aborting (this does not indicate an error and you can ignore this message): INVALID_ARGUMENT: You must feed a value for placeholder tensor 'gradients/split_2_grad/concat/split_2/split_dim' with dtype int32\n",
      "\t [[{{node gradients/split_2_grad/concat/split_2/split_dim}}]]\n",
      "2024-09-29 17:05:21.197920: I tensorflow/core/common_runtime/executor.cc:1197] [/device:CPU:0] (DEBUG INFO) Executor start aborting (this does not indicate an error and you can ignore this message): INVALID_ARGUMENT: You must feed a value for placeholder tensor 'gradients/split_grad/concat/split/split_dim' with dtype int32\n",
      "\t [[{{node gradients/split_grad/concat/split/split_dim}}]]\n",
      "2024-09-29 17:05:21.199091: I tensorflow/core/common_runtime/executor.cc:1197] [/device:CPU:0] (DEBUG INFO) Executor start aborting (this does not indicate an error and you can ignore this message): INVALID_ARGUMENT: You must feed a value for placeholder tensor 'gradients/split_1_grad/concat/split_1/split_dim' with dtype int32\n",
      "\t [[{{node gradients/split_1_grad/concat/split_1/split_dim}}]]\n",
      "2024-09-29 17:05:21.307100: I tensorflow/core/common_runtime/executor.cc:1197] [/device:CPU:0] (DEBUG INFO) Executor start aborting (this does not indicate an error and you can ignore this message): INVALID_ARGUMENT: You must feed a value for placeholder tensor 'gradients/split_2_grad/concat/split_2/split_dim' with dtype int32\n",
      "\t [[{{node gradients/split_2_grad/concat/split_2/split_dim}}]]\n",
      "2024-09-29 17:05:21.308213: I tensorflow/core/common_runtime/executor.cc:1197] [/device:CPU:0] (DEBUG INFO) Executor start aborting (this does not indicate an error and you can ignore this message): INVALID_ARGUMENT: You must feed a value for placeholder tensor 'gradients/split_grad/concat/split/split_dim' with dtype int32\n",
      "\t [[{{node gradients/split_grad/concat/split/split_dim}}]]\n",
      "2024-09-29 17:05:21.308940: I tensorflow/core/common_runtime/executor.cc:1197] [/device:CPU:0] (DEBUG INFO) Executor start aborting (this does not indicate an error and you can ignore this message): INVALID_ARGUMENT: You must feed a value for placeholder tensor 'gradients/split_1_grad/concat/split_1/split_dim' with dtype int32\n",
      "\t [[{{node gradients/split_1_grad/concat/split_1/split_dim}}]]\n",
      "2024-09-29 17:05:21.410288: I tensorflow/core/common_runtime/executor.cc:1197] [/device:CPU:0] (DEBUG INFO) Executor start aborting (this does not indicate an error and you can ignore this message): INVALID_ARGUMENT: You must feed a value for placeholder tensor 'gradients/split_2_grad/concat/split_2/split_dim' with dtype int32\n",
      "\t [[{{node gradients/split_2_grad/concat/split_2/split_dim}}]]\n",
      "2024-09-29 17:05:21.411332: I tensorflow/core/common_runtime/executor.cc:1197] [/device:CPU:0] (DEBUG INFO) Executor start aborting (this does not indicate an error and you can ignore this message): INVALID_ARGUMENT: You must feed a value for placeholder tensor 'gradients/split_grad/concat/split/split_dim' with dtype int32\n",
      "\t [[{{node gradients/split_grad/concat/split/split_dim}}]]\n",
      "2024-09-29 17:05:21.412069: I tensorflow/core/common_runtime/executor.cc:1197] [/device:CPU:0] (DEBUG INFO) Executor start aborting (this does not indicate an error and you can ignore this message): INVALID_ARGUMENT: You must feed a value for placeholder tensor 'gradients/split_1_grad/concat/split_1/split_dim' with dtype int32\n",
      "\t [[{{node gradients/split_1_grad/concat/split_1/split_dim}}]]\n"
     ]
    },
    {
     "name": "stdout",
     "output_type": "stream",
     "text": [
      "23/23 [==============================] - 1s 20ms/step\n",
      "11/11 [==============================] - 0s 20ms/step\n"
     ]
    }
   ],
   "source": [
    "##  Check performance metrics\n",
    "train_predict = model.predict(X_train)\n",
    "test_predict = model.predict(X_test)"
   ]
  },
  {
   "cell_type": "code",
   "execution_count": 21,
   "metadata": {},
   "outputs": [
    {
     "data": {
      "text/plain": [
       "array([[112.28104 ],\n",
       "       [112.21606 ],\n",
       "       [112.148926]], dtype=float32)"
      ]
     },
     "execution_count": 21,
     "metadata": {},
     "output_type": "execute_result"
    }
   ],
   "source": [
    "## Transformback to original form\n",
    "train_predict = scaler.inverse_transform(train_predict)\n",
    "test_predict = scaler.inverse_transform(test_predict)\n",
    "train_predict[:3]"
   ]
  },
  {
   "cell_type": "code",
   "execution_count": 22,
   "metadata": {},
   "outputs": [
    {
     "data": {
      "text/plain": [
       "142.6336764239218"
      ]
     },
     "execution_count": 22,
     "metadata": {},
     "output_type": "execute_result"
    }
   ],
   "source": [
    "## Calculate RMSE performance metrics\n",
    "import math\n",
    "from sklearn.metrics import mean_squared_error\n",
    "math.sqrt(mean_squared_error(y_train,train_predict))"
   ]
  },
  {
   "cell_type": "code",
   "execution_count": 23,
   "metadata": {},
   "outputs": [
    {
     "data": {
      "text/plain": [
       "240.64298062476897"
      ]
     },
     "execution_count": 23,
     "metadata": {},
     "output_type": "execute_result"
    }
   ],
   "source": [
    "math.sqrt(mean_squared_error(y_test,test_predict))"
   ]
  },
  {
   "cell_type": "code",
   "execution_count": 24,
   "metadata": {},
   "outputs": [
    {
     "data": {
      "image/png": "[encoded data removed]",
      "text/plain": [
       "<Figure size 640x480 with 1 Axes>"
      ]
     },
     "metadata": {},
     "output_type": "display_data"
    }
   ],
   "source": [
    "## Shift train predictions for plotting\n",
    "look_back = 100\n",
    "trainPredictPlot = np.empty_like(df1)\n",
    "trainPredictPlot[:, :] = np.nan\n",
    "trainPredictPlot[look_back:len(train_predict)+look_back, :] = train_predict\n",
    "## Shift test predictions for plotting\n",
    "testPredictPlot = np.empty_like(df1)\n",
    "testPredictPlot[:, :] = np.nan\n",
    "testPredictPlot[len(train_predict)+(look_back*2)+1:len(df1)-1, :] = test_predict\n",
    "## Plot baseline and predictions\n",
    "plt.plot(scaler.inverse_transform(df1))\n",
    "plt.plot(trainPredictPlot)\n",
    "plt.plot(testPredictPlot)\n",
    "plt.show()"
   ]
  }
 ],
 "metadata": {
  "kernelspec": {
   "display_name": "tensorflow",
   "language": "python",
   "name": "python3"
  },
  "language_info": {
   "codemirror_mode": {
    "name": "ipython",
    "version": 3
   },
   "file_extension": ".py",
   "mimetype": "text/x-python",
   "name": "python",
   "nbconvert_exporter": "python",
   "pygments_lexer": "ipython3",
   "version": "3.9.18"
  }
 },
 "nbformat": 4,
 "nbformat_minor": 2
}
